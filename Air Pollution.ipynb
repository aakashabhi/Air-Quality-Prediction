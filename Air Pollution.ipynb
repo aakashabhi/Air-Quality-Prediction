{
 "cells": [
  {
   "cell_type": "code",
   "execution_count": 30,
   "metadata": {},
   "outputs": [],
   "source": [
    "import numpy as np\n",
    "import pandas as pd\n",
    "import matplotlib.pyplot as plt\n",
    "from sklearn.linear_model import LinearRegression"
   ]
  },
  {
   "cell_type": "code",
   "execution_count": 36,
   "metadata": {},
   "outputs": [
    {
     "data": {
      "text/plain": [
       "array([ -82.15466656,  -48.89796018,   77.2703707 , ..., -107.51050797,\n",
       "        -47.34155781, -115.93900296])"
      ]
     },
     "execution_count": 36,
     "metadata": {},
     "output_type": "execute_result"
    }
   ],
   "source": [
    "air_data=pd.read_csv(\"Train.csv\")\n",
    "datax=air_data.loc[:,[\"feature_1\",\"feature_2\",\"feature_3\",\"feature_4\",\"feature_5\"]]\n",
    "datay=air_data.loc[:,[\"target\"]]\n",
    "X=datax.values\n",
    "Y=datay.values\n",
    "\n",
    "X.reshape((-1,))\n",
    "Y.reshape((-1,))"
   ]
  },
  {
   "cell_type": "code",
   "execution_count": 43,
   "metadata": {},
   "outputs": [],
   "source": [
    "from sklearn.model_selection import train_test_split\n",
    "X_train, X_test, Y_train, Y_test = train_test_split(X, Y, test_size = 0.2, random_state = 42)"
   ]
  },
  {
   "cell_type": "code",
   "execution_count": 44,
   "metadata": {},
   "outputs": [],
   "source": [
    "model=LinearRegression()\n",
    "model.fit(X_train,Y_train)\n",
    "Y_pred = model.predict(X_test)"
   ]
  },
  {
   "cell_type": "code",
   "execution_count": 45,
   "metadata": {},
   "outputs": [
    {
     "name": "stdout",
     "output_type": "stream",
     "text": [
      "Mean squared error: 1.83\n",
      "Variance score: 0.96\n"
     ]
    }
   ],
   "source": [
    "print(\"Mean squared error: %.2f\" % np.mean(Y_pred - Y_test) ** 2)\n",
    "print('Variance score: %.2f' % model.score(X_test, Y_test))"
   ]
  },
  {
   "cell_type": "code",
   "execution_count": 46,
   "metadata": {},
   "outputs": [],
   "source": [
    "testdata=pd.read_csv(\"Test.csv\")\n",
    "df = pd.DataFrame()\n",
    "df[[\"feature_1\",\"feature_2\",\"feature_3\",\"feature_4\",\"feature_5\"]]=testdata.loc[:,[\"feature_1\",\"feature_2\",\"feature_3\",\"feature_4\",\"feature_5\"]]\n",
    "x=testdata.values\n",
    "target_prediction=model.predict(x)"
   ]
  },
  {
   "cell_type": "code",
   "execution_count": 47,
   "metadata": {},
   "outputs": [
    {
     "name": "stdout",
     "output_type": "stream",
     "text": [
      "<bound method NDFrame.head of      feature_1  feature_2  feature_3  feature_4  feature_5      target\n",
      "0     1.015254   2.076209  -0.266435  -2.418088  -0.980503  115.836655\n",
      "1    -0.375021   0.953185   0.626719   0.704406  -0.355489  118.550802\n",
      "2    -1.024452   0.962991  -0.407942  -1.861274   0.455201  -21.033025\n",
      "3    -2.489841   0.544802   0.601219  -0.607021  -1.314286  -44.471190\n",
      "4    -0.384675  -0.833624   1.358552  -0.547932   0.411925  -96.016764\n",
      "..         ...        ...        ...        ...        ...         ...\n",
      "395  -0.436959  -0.575844  -1.620908  -0.222588   1.086013  -81.698883\n",
      "396  -0.421324  -2.417543   0.876275   0.844565   0.171646 -187.052335\n",
      "397   0.554728   1.768243  -0.897787  -1.193661   0.340563  126.758329\n",
      "398  -1.627172   0.856471  -0.000566   0.629387   0.453382   65.855440\n",
      "399   0.139310   0.531597  -0.853107   0.031692   1.714893   58.284795\n",
      "\n",
      "[400 rows x 6 columns]>\n"
     ]
    }
   ],
   "source": [
    "df['target']=target_prediction\n",
    "print(df.head)"
   ]
  },
  {
   "cell_type": "code",
   "execution_count": 48,
   "metadata": {},
   "outputs": [],
   "source": [
    "df.to_csv('predictions.csv', index=False)"
   ]
  },
  {
   "cell_type": "code",
   "execution_count": null,
   "metadata": {},
   "outputs": [],
   "source": [
    "\n"
   ]
  },
  {
   "cell_type": "code",
   "execution_count": null,
   "metadata": {},
   "outputs": [],
   "source": []
  },
  {
   "cell_type": "code",
   "execution_count": null,
   "metadata": {},
   "outputs": [],
   "source": []
  }
 ],
 "metadata": {
  "kernelspec": {
   "display_name": "Python 3",
   "language": "python",
   "name": "python3"
  },
  "language_info": {
   "codemirror_mode": {
    "name": "ipython",
    "version": 3
   },
   "file_extension": ".py",
   "mimetype": "text/x-python",
   "name": "python",
   "nbconvert_exporter": "python",
   "pygments_lexer": "ipython3",
   "version": "3.9.0"
  }
 },
 "nbformat": 4,
 "nbformat_minor": 4
}
